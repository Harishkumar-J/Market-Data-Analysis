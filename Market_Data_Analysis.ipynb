{
  "nbformat": 4,
  "nbformat_minor": 0,
  "metadata": {
    "colab": {
      "provenance": [],
      "toc_visible": true,
      "mount_file_id": "1t0dIbNMPC79O1hrOOy5eP_JzweJDbnJ0",
      "authorship_tag": "ABX9TyP5dDygZude8lwX8oL+o2e5",
      "include_colab_link": true
    },
    "kernelspec": {
      "name": "python3",
      "display_name": "Python 3"
    },
    "language_info": {
      "name": "python"
    }
  },
  "cells": [
    {
      "cell_type": "markdown",
      "metadata": {
        "id": "view-in-github",
        "colab_type": "text"
      },
      "source": [
        "<a href=\"https://colab.research.google.com/github/Harishkumar-J/Market-Data-Analysis/blob/main/Market_Data_Analysis.ipynb\" target=\"_parent\"><img src=\"https://colab.research.google.com/assets/colab-badge.svg\" alt=\"Open In Colab\"/></a>"
      ]
    },
    {
      "cell_type": "markdown",
      "source": [
        "# ========================================\n",
        "# 📊 Market Transaction Analysis Project\n",
        "# ========================================"
      ],
      "metadata": {
        "id": "QP86TTB_ijUv"
      }
    },
    {
      "cell_type": "markdown",
      "source": [
        "# ✒ Initial packages and data load"
      ],
      "metadata": {
        "id": "o4DLNC8bXN60"
      }
    },
    {
      "cell_type": "code",
      "execution_count": 1,
      "metadata": {
        "id": "QryfTBUZURCa"
      },
      "outputs": [],
      "source": [
        "import pandas as pd\n",
        "import numpy as np\n",
        "import matplotlib.pyplot as plt\n",
        "import seaborn as sns"
      ]
    },
    {
      "cell_type": "markdown",
      "source": [
        "**Pandas** - For handling and analyzing *tabular data*. Reading CSV/Excel files, cleaning data, grouping, aggregations.\n",
        "\n",
        "**Numpy** - Numerical computations and arrays. Often used with pandas for fast calculations.\n",
        "\n",
        "**matplotlib.pyplot** - Base Python library for creating plots/graphs\n",
        "\n",
        "**seaborn** - Statistical visualization library built on top of Matplotlib.\n",
        "Makes prettier and easier plots with less code."
      ],
      "metadata": {
        "id": "kMWAKF5OQS9D"
      }
    },
    {
      "cell_type": "code",
      "source": [
        "from ast import literal_eval\n",
        "from datetime import datetime"
      ],
      "metadata": {
        "id": "JcR08EhMi-YX"
      },
      "execution_count": 2,
      "outputs": []
    },
    {
      "cell_type": "markdown",
      "source": [
        "**ast.literal_eval** - Safely evaluates a string that looks like a Python literal into a Python object.\n",
        "\n",
        "Example: turning a string **\"['Ketchup', 'Shaving Cream', 'Light Bulbs']\"** *(Product colum in CSV file)* into a python list => ['Ketchup', 'Shaving Cream', 'Light Bulbs']\n",
        "\n",
        "**datetime** - Useful for parsing date strings or calculating time differences\n"
      ],
      "metadata": {
        "id": "Z6zth7cSb0jt"
      }
    },
    {
      "cell_type": "code",
      "source": [
        "from google.colab import drive\n",
        "drive.mount('/content/drive')"
      ],
      "metadata": {
        "colab": {
          "base_uri": "https://localhost:8080/"
        },
        "id": "YQJwtqlohTEF",
        "outputId": "2dfb9468-ff71-4d9d-cfc8-d61a292f2b1a"
      },
      "execution_count": 3,
      "outputs": [
        {
          "output_type": "stream",
          "name": "stdout",
          "text": [
            "Drive already mounted at /content/drive; to attempt to forcibly remount, call drive.mount(\"/content/drive\", force_remount=True).\n"
          ]
        }
      ]
    },
    {
      "cell_type": "code",
      "source": [
        "# Settings\n",
        "pd.set_option(\"display.max_columns\", None)\n",
        "sns.set_style(\"whitegrid\")"
      ],
      "metadata": {
        "id": "7GXVBrq9iGaA"
      },
      "execution_count": 4,
      "outputs": []
    },
    {
      "cell_type": "markdown",
      "source": [
        "**set_option** - Show all columns when printing a DataFrame, don’t truncate them *(by default, pandas may hide some columns if there are too many)*\n",
        "\n",
        "**sns.set_style(\"whitegrid\")** - This is a Seaborn global style setting.\n",
        "\"whitegrid\" adds a white background with light gray gridlines to all plots."
      ],
      "metadata": {
        "id": "casrm-xZvcJk"
      }
    },
    {
      "cell_type": "code",
      "source": [
        "file_path = \"/content/drive/MyDrive/Greenwich/Project_Market_Analysis/Retail_Transactions_Dataset.csv\"\n",
        "\n",
        "df = pd.read_csv(file_path)\n",
        "df.head()\n"
      ],
      "metadata": {
        "colab": {
          "base_uri": "https://localhost:8080/",
          "height": 293
        },
        "id": "vlY29MwOXJqK",
        "outputId": "b1be2db8-e92e-455e-b2d1-e77a78f31aab"
      },
      "execution_count": 5,
      "outputs": [
        {
          "output_type": "execute_result",
          "data": {
            "text/plain": [
              "   Transaction_ID                 Date      Customer_Name  \\\n",
              "0      1000000000  2022-01-21 06:27:29       Stacey Price   \n",
              "1      1000000001  2023-03-01 13:01:21   Michelle Carlson   \n",
              "2      1000000002  2024-03-21 15:37:04        Lisa Graves   \n",
              "3      1000000003  2020-10-31 09:59:47  Mrs. Patricia May   \n",
              "4      1000000004  2020-12-10 00:59:59     Susan Mitchell   \n",
              "\n",
              "                                             Product  Total_Items  Total_Cost  \\\n",
              "0        ['Ketchup', 'Shaving Cream', 'Light Bulbs']            3       71.65   \n",
              "1  ['Ice Cream', 'Milk', 'Olive Oil', 'Bread', 'P...            2       25.93   \n",
              "2                                        ['Spinach']            6       41.49   \n",
              "3                             ['Tissues', 'Mustard']            1       39.34   \n",
              "4                                      ['Dish Soap']           10       16.42   \n",
              "\n",
              "   Payment_Method           City        Store_Type  Discount_Applied  \\\n",
              "0  Mobile Payment    Los Angeles    Warehouse Club              True   \n",
              "1            Cash  San Francisco   Specialty Store              True   \n",
              "2     Credit Card        Houston  Department Store              True   \n",
              "3  Mobile Payment        Chicago          Pharmacy              True   \n",
              "4      Debit Card        Houston   Specialty Store             False   \n",
              "\n",
              "  Customer_Category  Season                   Promotion  \n",
              "0         Homemaker  Winter                         NaN  \n",
              "1      Professional    Fall      BOGO (Buy One Get One)  \n",
              "2      Professional  Winter                         NaN  \n",
              "3         Homemaker  Spring                         NaN  \n",
              "4       Young Adult  Winter  Discount on Selected Items  "
            ],
            "text/html": [
              "\n",
              "  <div id=\"df-1694c6b4-d4f2-420c-a48b-0077b8dd7b6c\" class=\"colab-df-container\">\n",
              "    <div>\n",
              "<style scoped>\n",
              "    .dataframe tbody tr th:only-of-type {\n",
              "        vertical-align: middle;\n",
              "    }\n",
              "\n",
              "    .dataframe tbody tr th {\n",
              "        vertical-align: top;\n",
              "    }\n",
              "\n",
              "    .dataframe thead th {\n",
              "        text-align: right;\n",
              "    }\n",
              "</style>\n",
              "<table border=\"1\" class=\"dataframe\">\n",
              "  <thead>\n",
              "    <tr style=\"text-align: right;\">\n",
              "      <th></th>\n",
              "      <th>Transaction_ID</th>\n",
              "      <th>Date</th>\n",
              "      <th>Customer_Name</th>\n",
              "      <th>Product</th>\n",
              "      <th>Total_Items</th>\n",
              "      <th>Total_Cost</th>\n",
              "      <th>Payment_Method</th>\n",
              "      <th>City</th>\n",
              "      <th>Store_Type</th>\n",
              "      <th>Discount_Applied</th>\n",
              "      <th>Customer_Category</th>\n",
              "      <th>Season</th>\n",
              "      <th>Promotion</th>\n",
              "    </tr>\n",
              "  </thead>\n",
              "  <tbody>\n",
              "    <tr>\n",
              "      <th>0</th>\n",
              "      <td>1000000000</td>\n",
              "      <td>2022-01-21 06:27:29</td>\n",
              "      <td>Stacey Price</td>\n",
              "      <td>['Ketchup', 'Shaving Cream', 'Light Bulbs']</td>\n",
              "      <td>3</td>\n",
              "      <td>71.65</td>\n",
              "      <td>Mobile Payment</td>\n",
              "      <td>Los Angeles</td>\n",
              "      <td>Warehouse Club</td>\n",
              "      <td>True</td>\n",
              "      <td>Homemaker</td>\n",
              "      <td>Winter</td>\n",
              "      <td>NaN</td>\n",
              "    </tr>\n",
              "    <tr>\n",
              "      <th>1</th>\n",
              "      <td>1000000001</td>\n",
              "      <td>2023-03-01 13:01:21</td>\n",
              "      <td>Michelle Carlson</td>\n",
              "      <td>['Ice Cream', 'Milk', 'Olive Oil', 'Bread', 'P...</td>\n",
              "      <td>2</td>\n",
              "      <td>25.93</td>\n",
              "      <td>Cash</td>\n",
              "      <td>San Francisco</td>\n",
              "      <td>Specialty Store</td>\n",
              "      <td>True</td>\n",
              "      <td>Professional</td>\n",
              "      <td>Fall</td>\n",
              "      <td>BOGO (Buy One Get One)</td>\n",
              "    </tr>\n",
              "    <tr>\n",
              "      <th>2</th>\n",
              "      <td>1000000002</td>\n",
              "      <td>2024-03-21 15:37:04</td>\n",
              "      <td>Lisa Graves</td>\n",
              "      <td>['Spinach']</td>\n",
              "      <td>6</td>\n",
              "      <td>41.49</td>\n",
              "      <td>Credit Card</td>\n",
              "      <td>Houston</td>\n",
              "      <td>Department Store</td>\n",
              "      <td>True</td>\n",
              "      <td>Professional</td>\n",
              "      <td>Winter</td>\n",
              "      <td>NaN</td>\n",
              "    </tr>\n",
              "    <tr>\n",
              "      <th>3</th>\n",
              "      <td>1000000003</td>\n",
              "      <td>2020-10-31 09:59:47</td>\n",
              "      <td>Mrs. Patricia May</td>\n",
              "      <td>['Tissues', 'Mustard']</td>\n",
              "      <td>1</td>\n",
              "      <td>39.34</td>\n",
              "      <td>Mobile Payment</td>\n",
              "      <td>Chicago</td>\n",
              "      <td>Pharmacy</td>\n",
              "      <td>True</td>\n",
              "      <td>Homemaker</td>\n",
              "      <td>Spring</td>\n",
              "      <td>NaN</td>\n",
              "    </tr>\n",
              "    <tr>\n",
              "      <th>4</th>\n",
              "      <td>1000000004</td>\n",
              "      <td>2020-12-10 00:59:59</td>\n",
              "      <td>Susan Mitchell</td>\n",
              "      <td>['Dish Soap']</td>\n",
              "      <td>10</td>\n",
              "      <td>16.42</td>\n",
              "      <td>Debit Card</td>\n",
              "      <td>Houston</td>\n",
              "      <td>Specialty Store</td>\n",
              "      <td>False</td>\n",
              "      <td>Young Adult</td>\n",
              "      <td>Winter</td>\n",
              "      <td>Discount on Selected Items</td>\n",
              "    </tr>\n",
              "  </tbody>\n",
              "</table>\n",
              "</div>\n",
              "    <div class=\"colab-df-buttons\">\n",
              "\n",
              "  <div class=\"colab-df-container\">\n",
              "    <button class=\"colab-df-convert\" onclick=\"convertToInteractive('df-1694c6b4-d4f2-420c-a48b-0077b8dd7b6c')\"\n",
              "            title=\"Convert this dataframe to an interactive table.\"\n",
              "            style=\"display:none;\">\n",
              "\n",
              "  <svg xmlns=\"http://www.w3.org/2000/svg\" height=\"24px\" viewBox=\"0 -960 960 960\">\n",
              "    <path d=\"M120-120v-720h720v720H120Zm60-500h600v-160H180v160Zm220 220h160v-160H400v160Zm0 220h160v-160H400v160ZM180-400h160v-160H180v160Zm440 0h160v-160H620v160ZM180-180h160v-160H180v160Zm440 0h160v-160H620v160Z\"/>\n",
              "  </svg>\n",
              "    </button>\n",
              "\n",
              "  <style>\n",
              "    .colab-df-container {\n",
              "      display:flex;\n",
              "      gap: 12px;\n",
              "    }\n",
              "\n",
              "    .colab-df-convert {\n",
              "      background-color: #E8F0FE;\n",
              "      border: none;\n",
              "      border-radius: 50%;\n",
              "      cursor: pointer;\n",
              "      display: none;\n",
              "      fill: #1967D2;\n",
              "      height: 32px;\n",
              "      padding: 0 0 0 0;\n",
              "      width: 32px;\n",
              "    }\n",
              "\n",
              "    .colab-df-convert:hover {\n",
              "      background-color: #E2EBFA;\n",
              "      box-shadow: 0px 1px 2px rgba(60, 64, 67, 0.3), 0px 1px 3px 1px rgba(60, 64, 67, 0.15);\n",
              "      fill: #174EA6;\n",
              "    }\n",
              "\n",
              "    .colab-df-buttons div {\n",
              "      margin-bottom: 4px;\n",
              "    }\n",
              "\n",
              "    [theme=dark] .colab-df-convert {\n",
              "      background-color: #3B4455;\n",
              "      fill: #D2E3FC;\n",
              "    }\n",
              "\n",
              "    [theme=dark] .colab-df-convert:hover {\n",
              "      background-color: #434B5C;\n",
              "      box-shadow: 0px 1px 3px 1px rgba(0, 0, 0, 0.15);\n",
              "      filter: drop-shadow(0px 1px 2px rgba(0, 0, 0, 0.3));\n",
              "      fill: #FFFFFF;\n",
              "    }\n",
              "  </style>\n",
              "\n",
              "    <script>\n",
              "      const buttonEl =\n",
              "        document.querySelector('#df-1694c6b4-d4f2-420c-a48b-0077b8dd7b6c button.colab-df-convert');\n",
              "      buttonEl.style.display =\n",
              "        google.colab.kernel.accessAllowed ? 'block' : 'none';\n",
              "\n",
              "      async function convertToInteractive(key) {\n",
              "        const element = document.querySelector('#df-1694c6b4-d4f2-420c-a48b-0077b8dd7b6c');\n",
              "        const dataTable =\n",
              "          await google.colab.kernel.invokeFunction('convertToInteractive',\n",
              "                                                    [key], {});\n",
              "        if (!dataTable) return;\n",
              "\n",
              "        const docLinkHtml = 'Like what you see? Visit the ' +\n",
              "          '<a target=\"_blank\" href=https://colab.research.google.com/notebooks/data_table.ipynb>data table notebook</a>'\n",
              "          + ' to learn more about interactive tables.';\n",
              "        element.innerHTML = '';\n",
              "        dataTable['output_type'] = 'display_data';\n",
              "        await google.colab.output.renderOutput(dataTable, element);\n",
              "        const docLink = document.createElement('div');\n",
              "        docLink.innerHTML = docLinkHtml;\n",
              "        element.appendChild(docLink);\n",
              "      }\n",
              "    </script>\n",
              "  </div>\n",
              "\n",
              "\n",
              "    <div id=\"df-5510a017-092c-4249-a97b-ee351678bf01\">\n",
              "      <button class=\"colab-df-quickchart\" onclick=\"quickchart('df-5510a017-092c-4249-a97b-ee351678bf01')\"\n",
              "                title=\"Suggest charts\"\n",
              "                style=\"display:none;\">\n",
              "\n",
              "<svg xmlns=\"http://www.w3.org/2000/svg\" height=\"24px\"viewBox=\"0 0 24 24\"\n",
              "     width=\"24px\">\n",
              "    <g>\n",
              "        <path d=\"M19 3H5c-1.1 0-2 .9-2 2v14c0 1.1.9 2 2 2h14c1.1 0 2-.9 2-2V5c0-1.1-.9-2-2-2zM9 17H7v-7h2v7zm4 0h-2V7h2v10zm4 0h-2v-4h2v4z\"/>\n",
              "    </g>\n",
              "</svg>\n",
              "      </button>\n",
              "\n",
              "<style>\n",
              "  .colab-df-quickchart {\n",
              "      --bg-color: #E8F0FE;\n",
              "      --fill-color: #1967D2;\n",
              "      --hover-bg-color: #E2EBFA;\n",
              "      --hover-fill-color: #174EA6;\n",
              "      --disabled-fill-color: #AAA;\n",
              "      --disabled-bg-color: #DDD;\n",
              "  }\n",
              "\n",
              "  [theme=dark] .colab-df-quickchart {\n",
              "      --bg-color: #3B4455;\n",
              "      --fill-color: #D2E3FC;\n",
              "      --hover-bg-color: #434B5C;\n",
              "      --hover-fill-color: #FFFFFF;\n",
              "      --disabled-bg-color: #3B4455;\n",
              "      --disabled-fill-color: #666;\n",
              "  }\n",
              "\n",
              "  .colab-df-quickchart {\n",
              "    background-color: var(--bg-color);\n",
              "    border: none;\n",
              "    border-radius: 50%;\n",
              "    cursor: pointer;\n",
              "    display: none;\n",
              "    fill: var(--fill-color);\n",
              "    height: 32px;\n",
              "    padding: 0;\n",
              "    width: 32px;\n",
              "  }\n",
              "\n",
              "  .colab-df-quickchart:hover {\n",
              "    background-color: var(--hover-bg-color);\n",
              "    box-shadow: 0 1px 2px rgba(60, 64, 67, 0.3), 0 1px 3px 1px rgba(60, 64, 67, 0.15);\n",
              "    fill: var(--button-hover-fill-color);\n",
              "  }\n",
              "\n",
              "  .colab-df-quickchart-complete:disabled,\n",
              "  .colab-df-quickchart-complete:disabled:hover {\n",
              "    background-color: var(--disabled-bg-color);\n",
              "    fill: var(--disabled-fill-color);\n",
              "    box-shadow: none;\n",
              "  }\n",
              "\n",
              "  .colab-df-spinner {\n",
              "    border: 2px solid var(--fill-color);\n",
              "    border-color: transparent;\n",
              "    border-bottom-color: var(--fill-color);\n",
              "    animation:\n",
              "      spin 1s steps(1) infinite;\n",
              "  }\n",
              "\n",
              "  @keyframes spin {\n",
              "    0% {\n",
              "      border-color: transparent;\n",
              "      border-bottom-color: var(--fill-color);\n",
              "      border-left-color: var(--fill-color);\n",
              "    }\n",
              "    20% {\n",
              "      border-color: transparent;\n",
              "      border-left-color: var(--fill-color);\n",
              "      border-top-color: var(--fill-color);\n",
              "    }\n",
              "    30% {\n",
              "      border-color: transparent;\n",
              "      border-left-color: var(--fill-color);\n",
              "      border-top-color: var(--fill-color);\n",
              "      border-right-color: var(--fill-color);\n",
              "    }\n",
              "    40% {\n",
              "      border-color: transparent;\n",
              "      border-right-color: var(--fill-color);\n",
              "      border-top-color: var(--fill-color);\n",
              "    }\n",
              "    60% {\n",
              "      border-color: transparent;\n",
              "      border-right-color: var(--fill-color);\n",
              "    }\n",
              "    80% {\n",
              "      border-color: transparent;\n",
              "      border-right-color: var(--fill-color);\n",
              "      border-bottom-color: var(--fill-color);\n",
              "    }\n",
              "    90% {\n",
              "      border-color: transparent;\n",
              "      border-bottom-color: var(--fill-color);\n",
              "    }\n",
              "  }\n",
              "</style>\n",
              "\n",
              "      <script>\n",
              "        async function quickchart(key) {\n",
              "          const quickchartButtonEl =\n",
              "            document.querySelector('#' + key + ' button');\n",
              "          quickchartButtonEl.disabled = true;  // To prevent multiple clicks.\n",
              "          quickchartButtonEl.classList.add('colab-df-spinner');\n",
              "          try {\n",
              "            const charts = await google.colab.kernel.invokeFunction(\n",
              "                'suggestCharts', [key], {});\n",
              "          } catch (error) {\n",
              "            console.error('Error during call to suggestCharts:', error);\n",
              "          }\n",
              "          quickchartButtonEl.classList.remove('colab-df-spinner');\n",
              "          quickchartButtonEl.classList.add('colab-df-quickchart-complete');\n",
              "        }\n",
              "        (() => {\n",
              "          let quickchartButtonEl =\n",
              "            document.querySelector('#df-5510a017-092c-4249-a97b-ee351678bf01 button');\n",
              "          quickchartButtonEl.style.display =\n",
              "            google.colab.kernel.accessAllowed ? 'block' : 'none';\n",
              "        })();\n",
              "      </script>\n",
              "    </div>\n",
              "\n",
              "    </div>\n",
              "  </div>\n"
            ],
            "application/vnd.google.colaboratory.intrinsic+json": {
              "type": "dataframe",
              "variable_name": "df"
            }
          },
          "metadata": {},
          "execution_count": 5
        }
      ]
    },
    {
      "cell_type": "code",
      "source": [
        "print(\"Data Shape:\", df.shape)"
      ],
      "metadata": {
        "colab": {
          "base_uri": "https://localhost:8080/"
        },
        "id": "QIahZVCxe78J",
        "outputId": "a7d6a58b-bca7-4d29-8e01-0f541077b3af"
      },
      "execution_count": 6,
      "outputs": [
        {
          "output_type": "stream",
          "name": "stdout",
          "text": [
            "Data Shape: (1000000, 13)\n"
          ]
        }
      ]
    },
    {
      "cell_type": "markdown",
      "source": [
        "# ⚒ Data Cleaning"
      ],
      "metadata": {
        "id": "3Mc7XeREgsBA"
      }
    },
    {
      "cell_type": "code",
      "source": [
        "df['Date'] = pd.to_datetime(df['Date'], errors='coerce')"
      ],
      "metadata": {
        "id": "sN2zpHI5gzCm"
      },
      "execution_count": 7,
      "outputs": []
    },
    {
      "cell_type": "markdown",
      "source": [
        "**pd.to_datetime()** - Converts a column (here df['Date']) into pandas datetime objects (datetime64[ns] dtype).\n",
        "This makes it easier to filter by date, extract year/month/day, do time differences, etc.\n",
        "\n",
        "**errors='coerce** - invalid rows become NaT*(Not a Time)*"
      ],
      "metadata": {
        "id": "tnhljN9Mhwo3"
      }
    },
    {
      "cell_type": "code",
      "source": [
        "df['Year'] = df['Date'].dt.year\n",
        "df['Month'] = df['Date'].dt.month\n",
        "df['Day'] = df['Date'].dt.day\n",
        "df['Hour'] = df['Date'].dt.hour"
      ],
      "metadata": {
        "id": "EOfIhxytkqqI"
      },
      "execution_count": 8,
      "outputs": []
    },
    {
      "cell_type": "markdown",
      "source": [
        "so now the data frame with added new columns will look like,             \n",
        "             \n",
        "              Date   Year  Month Day Hour\n",
        "2022-01-21 06:27:29 ----  2022   ----  1  ----21  ---- 6\n",
        "\n",
        "2022-02-15 14:45:10  ----   2022  ----    2  ---- 15   ----  14"
      ],
      "metadata": {
        "id": "pEuCiMIMk4oK"
      }
    },
    {
      "cell_type": "code",
      "source": [
        "df['Product'].head()"
      ],
      "metadata": {
        "colab": {
          "base_uri": "https://localhost:8080/",
          "height": 241
        },
        "id": "QFkMg6OWqubK",
        "outputId": "b27209df-f2a7-4f43-ed12-592653585ad8"
      },
      "execution_count": 9,
      "outputs": [
        {
          "output_type": "execute_result",
          "data": {
            "text/plain": [
              "0          ['Ketchup', 'Shaving Cream', 'Light Bulbs']\n",
              "1    ['Ice Cream', 'Milk', 'Olive Oil', 'Bread', 'P...\n",
              "2                                          ['Spinach']\n",
              "3                               ['Tissues', 'Mustard']\n",
              "4                                        ['Dish Soap']\n",
              "Name: Product, dtype: object"
            ],
            "text/html": [
              "<div>\n",
              "<style scoped>\n",
              "    .dataframe tbody tr th:only-of-type {\n",
              "        vertical-align: middle;\n",
              "    }\n",
              "\n",
              "    .dataframe tbody tr th {\n",
              "        vertical-align: top;\n",
              "    }\n",
              "\n",
              "    .dataframe thead th {\n",
              "        text-align: right;\n",
              "    }\n",
              "</style>\n",
              "<table border=\"1\" class=\"dataframe\">\n",
              "  <thead>\n",
              "    <tr style=\"text-align: right;\">\n",
              "      <th></th>\n",
              "      <th>Product</th>\n",
              "    </tr>\n",
              "  </thead>\n",
              "  <tbody>\n",
              "    <tr>\n",
              "      <th>0</th>\n",
              "      <td>['Ketchup', 'Shaving Cream', 'Light Bulbs']</td>\n",
              "    </tr>\n",
              "    <tr>\n",
              "      <th>1</th>\n",
              "      <td>['Ice Cream', 'Milk', 'Olive Oil', 'Bread', 'P...</td>\n",
              "    </tr>\n",
              "    <tr>\n",
              "      <th>2</th>\n",
              "      <td>['Spinach']</td>\n",
              "    </tr>\n",
              "    <tr>\n",
              "      <th>3</th>\n",
              "      <td>['Tissues', 'Mustard']</td>\n",
              "    </tr>\n",
              "    <tr>\n",
              "      <th>4</th>\n",
              "      <td>['Dish Soap']</td>\n",
              "    </tr>\n",
              "  </tbody>\n",
              "</table>\n",
              "</div><br><label><b>dtype:</b> object</label>"
            ]
          },
          "metadata": {},
          "execution_count": 9
        }
      ]
    },
    {
      "cell_type": "code",
      "source": [
        "df['Product'] = df['Product'].apply(lambda x: literal_eval(x) if isinstance(x, str) else x)"
      ],
      "metadata": {
        "id": "S3wabbX4lmFb"
      },
      "execution_count": 10,
      "outputs": []
    },
    {
      "cell_type": "markdown",
      "source": [
        "**apply(lambda x: ... if)** -\n",
        "Goes through each row in the Product column and applies a function.\n",
        "\n",
        "**isinstance(x, str)** -\n",
        "Checks if the current value is a string.\n",
        "\n",
        "If it's already a Python list, we don't want to touch it.\n",
        "\n",
        "**literal_eval(x)** -\n",
        "Converts the string representation of a Python object into the actual object"
      ],
      "metadata": {
        "id": "95uPI4cLrEea"
      }
    },
    {
      "cell_type": "code",
      "source": [
        "df['Product'].head()"
      ],
      "metadata": {
        "colab": {
          "base_uri": "https://localhost:8080/",
          "height": 241
        },
        "id": "moSJv69Vq9Bk",
        "outputId": "285df96d-6aab-402c-8c9d-810b1e0b6e98"
      },
      "execution_count": 11,
      "outputs": [
        {
          "output_type": "execute_result",
          "data": {
            "text/plain": [
              "0            [Ketchup, Shaving Cream, Light Bulbs]\n",
              "1    [Ice Cream, Milk, Olive Oil, Bread, Potatoes]\n",
              "2                                        [Spinach]\n",
              "3                               [Tissues, Mustard]\n",
              "4                                      [Dish Soap]\n",
              "Name: Product, dtype: object"
            ],
            "text/html": [
              "<div>\n",
              "<style scoped>\n",
              "    .dataframe tbody tr th:only-of-type {\n",
              "        vertical-align: middle;\n",
              "    }\n",
              "\n",
              "    .dataframe tbody tr th {\n",
              "        vertical-align: top;\n",
              "    }\n",
              "\n",
              "    .dataframe thead th {\n",
              "        text-align: right;\n",
              "    }\n",
              "</style>\n",
              "<table border=\"1\" class=\"dataframe\">\n",
              "  <thead>\n",
              "    <tr style=\"text-align: right;\">\n",
              "      <th></th>\n",
              "      <th>Product</th>\n",
              "    </tr>\n",
              "  </thead>\n",
              "  <tbody>\n",
              "    <tr>\n",
              "      <th>0</th>\n",
              "      <td>[Ketchup, Shaving Cream, Light Bulbs]</td>\n",
              "    </tr>\n",
              "    <tr>\n",
              "      <th>1</th>\n",
              "      <td>[Ice Cream, Milk, Olive Oil, Bread, Potatoes]</td>\n",
              "    </tr>\n",
              "    <tr>\n",
              "      <th>2</th>\n",
              "      <td>[Spinach]</td>\n",
              "    </tr>\n",
              "    <tr>\n",
              "      <th>3</th>\n",
              "      <td>[Tissues, Mustard]</td>\n",
              "    </tr>\n",
              "    <tr>\n",
              "      <th>4</th>\n",
              "      <td>[Dish Soap]</td>\n",
              "    </tr>\n",
              "  </tbody>\n",
              "</table>\n",
              "</div><br><label><b>dtype:</b> object</label>"
            ]
          },
          "metadata": {},
          "execution_count": 11
        }
      ]
    },
    {
      "cell_type": "code",
      "source": [
        "print(\"\\nMissing values:\\n\", df.isnull().sum())"
      ],
      "metadata": {
        "colab": {
          "base_uri": "https://localhost:8080/"
        },
        "id": "aQrMYrssvv8B",
        "outputId": "948d39c3-b239-445e-d49e-56ef70c50e37"
      },
      "execution_count": 14,
      "outputs": [
        {
          "output_type": "stream",
          "name": "stdout",
          "text": [
            "\n",
            "Missing values:\n",
            " Transaction_ID       0\n",
            "Date                 0\n",
            "Customer_Name        0\n",
            "Product              0\n",
            "Total_Items          0\n",
            "Total_Cost           0\n",
            "Payment_Method       0\n",
            "City                 0\n",
            "Store_Type           0\n",
            "Discount_Applied     0\n",
            "Customer_Category    0\n",
            "Season               0\n",
            "Promotion            0\n",
            "Year                 0\n",
            "Month                0\n",
            "Day                  0\n",
            "Hour                 0\n",
            "dtype: int64\n"
          ]
        }
      ]
    },
    {
      "cell_type": "markdown",
      "source": [
        "Checking for Missing values\n"
      ],
      "metadata": {
        "id": "dhxBk9QOv1bJ"
      }
    },
    {
      "cell_type": "code",
      "source": [
        "df['Promotion'] = df['Promotion'].fillna(\"None\")"
      ],
      "metadata": {
        "id": "TxoHjtetwOHQ"
      },
      "execution_count": 13,
      "outputs": []
    },
    {
      "cell_type": "code",
      "source": [
        "df.info()"
      ],
      "metadata": {
        "colab": {
          "base_uri": "https://localhost:8080/"
        },
        "id": "MHhFMMjtzqAy",
        "outputId": "0c15250f-52b2-43a0-d394-ed8b2874255f"
      },
      "execution_count": 22,
      "outputs": [
        {
          "output_type": "stream",
          "name": "stdout",
          "text": [
            "<class 'pandas.core.frame.DataFrame'>\n",
            "RangeIndex: 1000000 entries, 0 to 999999\n",
            "Data columns (total 17 columns):\n",
            " #   Column             Non-Null Count    Dtype         \n",
            "---  ------             --------------    -----         \n",
            " 0   Transaction_ID     1000000 non-null  object        \n",
            " 1   Date               1000000 non-null  datetime64[ns]\n",
            " 2   Customer_Name      1000000 non-null  object        \n",
            " 3   Product            1000000 non-null  object        \n",
            " 4   Total_Items        1000000 non-null  int64         \n",
            " 5   Total_Cost         1000000 non-null  float64       \n",
            " 6   Payment_Method     1000000 non-null  object        \n",
            " 7   City               1000000 non-null  object        \n",
            " 8   Store_Type         1000000 non-null  object        \n",
            " 9   Discount_Applied   1000000 non-null  bool          \n",
            " 10  Customer_Category  1000000 non-null  object        \n",
            " 11  Season             1000000 non-null  object        \n",
            " 12  Promotion          1000000 non-null  object        \n",
            " 13  Year               1000000 non-null  int32         \n",
            " 14  Month              1000000 non-null  int32         \n",
            " 15  Day                1000000 non-null  int32         \n",
            " 16  Hour               1000000 non-null  int32         \n",
            "dtypes: bool(1), datetime64[ns](1), float64(1), int32(4), int64(1), object(9)\n",
            "memory usage: 107.8+ MB\n"
          ]
        }
      ]
    },
    {
      "cell_type": "code",
      "source": [
        "df['Transaction_ID'] = df['Transaction_ID'].astype(str)"
      ],
      "metadata": {
        "id": "hHIY25ke0MGk"
      },
      "execution_count": 21,
      "outputs": []
    },
    {
      "cell_type": "markdown",
      "source": [
        "*To ensure the **IDs are treated as text** rather than numbers, which can prevent issues with leading zeros or other numeric interpretations.*"
      ],
      "metadata": {
        "id": "41f0nUbC12-1"
      }
    },
    {
      "cell_type": "code",
      "source": [
        "str_cols = ['Customer_Name','Payment_Method','City','Store_Type','Customer_Category','Season','Promotion']\n",
        "for col in str_cols:\n",
        "    df[col] = df[col].str.strip()"
      ],
      "metadata": {
        "id": "Wx-J6nD-2D-1"
      },
      "execution_count": 19,
      "outputs": []
    },
    {
      "cell_type": "markdown",
      "source": [
        "*Strip leading/trailing spaces in text columns*"
      ],
      "metadata": {
        "id": "TENUjxqU20QU"
      }
    }
  ]
}