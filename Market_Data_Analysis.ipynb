{
  "nbformat": 4,
  "nbformat_minor": 0,
  "metadata": {
    "colab": {
      "provenance": [],
      "toc_visible": true,
      "mount_file_id": "1t0dIbNMPC79O1hrOOy5eP_JzweJDbnJ0",
      "authorship_tag": "ABX9TyOe4pmSgspOLEPdgZ6uJozU",
      "include_colab_link": true
    },
    "kernelspec": {
      "name": "python3",
      "display_name": "Python 3"
    },
    "language_info": {
      "name": "python"
    }
  },
  "cells": [
    {
      "cell_type": "markdown",
      "metadata": {
        "id": "view-in-github",
        "colab_type": "text"
      },
      "source": [
        "<a href=\"https://colab.research.google.com/github/Harishkumar-J/Market-Data-Analysis/blob/main/Market_Data_Analysis.ipynb\" target=\"_parent\"><img src=\"https://colab.research.google.com/assets/colab-badge.svg\" alt=\"Open In Colab\"/></a>"
      ]
    },
    {
      "cell_type": "markdown",
      "source": [
        "# ========================================\n",
        "# 📊 Market Transaction Analysis Project\n",
        "# ========================================"
      ],
      "metadata": {
        "id": "QP86TTB_ijUv"
      }
    },
    {
      "cell_type": "markdown",
      "source": [
        "# Initial packages and data load"
      ],
      "metadata": {
        "id": "o4DLNC8bXN60"
      }
    },
    {
      "cell_type": "code",
      "execution_count": 6,
      "metadata": {
        "id": "QryfTBUZURCa"
      },
      "outputs": [],
      "source": [
        "import pandas as pd\n",
        "import numpy as np\n",
        "import matplotlib.pyplot as plt\n",
        "import seaborn as sns"
      ]
    },
    {
      "cell_type": "markdown",
      "source": [
        "**Pandas** - For handling and analyzing *tabular data*. Reading CSV/Excel files, cleaning data, grouping, aggregations.\n",
        "\n",
        "**Numpy** - Numerical computations and arrays. Often used with pandas for fast calculations.\n",
        "\n",
        "**matplotlib.pyplot** - Base Python library for creating plots/graphs\n",
        "\n",
        "**seaborn** - Statistical visualization library built on top of Matplotlib.\n",
        "Makes prettier and easier plots with less code."
      ],
      "metadata": {
        "id": "kMWAKF5OQS9D"
      }
    },
    {
      "cell_type": "code",
      "source": [
        "from ast import literal_eval\n",
        "from datetime import datetime"
      ],
      "metadata": {
        "id": "JcR08EhMi-YX"
      },
      "execution_count": 2,
      "outputs": []
    },
    {
      "cell_type": "markdown",
      "source": [
        "**ast.literal_eval** - Safely evaluates a string that looks like a Python literal into a Python object.\n",
        "\n",
        "Example: turning a string **\"['Ketchup', 'Shaving Cream', 'Light Bulbs']\"** *(Product colum in CSV file)* into a python list => ['Ketchup', 'Shaving Cream', 'Light Bulbs']\n",
        "\n",
        "**datetime** - Useful for parsing date strings or calculating time differences\n"
      ],
      "metadata": {
        "id": "Z6zth7cSb0jt"
      }
    },
    {
      "cell_type": "code",
      "source": [
        "from google.colab import drive\n",
        "drive.mount('/content/drive')"
      ],
      "metadata": {
        "colab": {
          "base_uri": "https://localhost:8080/"
        },
        "id": "YQJwtqlohTEF",
        "outputId": "f7c6ba5c-26d4-4e01-f80a-27d1a657a3d5"
      },
      "execution_count": 4,
      "outputs": [
        {
          "output_type": "stream",
          "name": "stdout",
          "text": [
            "Drive already mounted at /content/drive; to attempt to forcibly remount, call drive.mount(\"/content/drive\", force_remount=True).\n"
          ]
        }
      ]
    },
    {
      "cell_type": "code",
      "source": [
        "# Settings\n",
        "pd.set_option(\"display.max_columns\", None)\n",
        "sns.set_style(\"whitegrid\")"
      ],
      "metadata": {
        "id": "7GXVBrq9iGaA"
      },
      "execution_count": 7,
      "outputs": []
    },
    {
      "cell_type": "markdown",
      "source": [
        "**set_option** - Show all columns when printing a DataFrame, don’t truncate them *(by default, pandas may hide some columns if there are too many)*\n",
        "\n",
        "**sns.set_style(\"whitegrid\")** - This is a Seaborn global style setting.\n",
        "\"whitegrid\" adds a white background with light gray gridlines to all plots."
      ],
      "metadata": {
        "id": "casrm-xZvcJk"
      }
    },
    {
      "cell_type": "code",
      "source": [
        "file_path = \"/content/drive/MyDrive/Greenwich/Project_Market_Analysis/Retail_Transactions_Dataset.csv\"\n",
        "\n",
        "df = pd.read_csv(file_path)\n",
        "df.head()\n"
      ],
      "metadata": {
        "colab": {
          "base_uri": "https://localhost:8080/"
        },
        "id": "vlY29MwOXJqK",
        "outputId": "2398f551-afe9-4d3f-df60-81d436470926"
      },
      "execution_count": 9,
      "outputs": [
        {
          "output_type": "stream",
          "name": "stdout",
          "text": [
            "Data Shape: (1000000, 13)\n"
          ]
        }
      ]
    },
    {
      "cell_type": "code",
      "source": [
        "print(\"Data Shape:\", df.shape)"
      ],
      "metadata": {
        "colab": {
          "base_uri": "https://localhost:8080/"
        },
        "id": "QIahZVCxe78J",
        "outputId": "deb51d14-eb6e-4259-8bbe-ecce85b8f4a2"
      },
      "execution_count": 10,
      "outputs": [
        {
          "output_type": "stream",
          "name": "stdout",
          "text": [
            "Data Shape: (1000000, 13)\n"
          ]
        }
      ]
    }
  ]
}